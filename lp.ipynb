{
 "cells": [
  {
   "cell_type": "code",
   "execution_count": 98,
   "metadata": {},
   "outputs": [],
   "source": [
    "import pandas as pd\n",
    "import scipy\n",
    "import numpy as np\n",
    "import matplotlib.pyplot as plt\n"
   ]
  },
  {
   "cell_type": "markdown",
   "metadata": {},
   "source": [
    "# Loading the data"
   ]
  },
  {
   "cell_type": "code",
   "execution_count": 99,
   "metadata": {},
   "outputs": [
    {
     "data": {
      "text/html": [
       "<div>\n",
       "<style scoped>\n",
       "    .dataframe tbody tr th:only-of-type {\n",
       "        vertical-align: middle;\n",
       "    }\n",
       "\n",
       "    .dataframe tbody tr th {\n",
       "        vertical-align: top;\n",
       "    }\n",
       "\n",
       "    .dataframe thead th {\n",
       "        text-align: right;\n",
       "    }\n",
       "</style>\n",
       "<table border=\"1\" class=\"dataframe\">\n",
       "  <thead>\n",
       "    <tr style=\"text-align: right;\">\n",
       "      <th></th>\n",
       "      <th>Groups</th>\n",
       "      <th>Revenge</th>\n",
       "      <th>Sunday NF</th>\n",
       "      <th>The Simpsons</th>\n",
       "      <th>SportsCenter</th>\n",
       "      <th>Homeland</th>\n",
       "      <th>Rachael Ray</th>\n",
       "      <th>CNN</th>\n",
       "      <th>The Good Wife</th>\n",
       "    </tr>\n",
       "  </thead>\n",
       "  <tbody>\n",
       "    <tr>\n",
       "      <th>0</th>\n",
       "      <td>Men 18-35</td>\n",
       "      <td>5.0</td>\n",
       "      <td>6.0</td>\n",
       "      <td>5.0</td>\n",
       "      <td>0.5</td>\n",
       "      <td>0.7</td>\n",
       "      <td>0.1</td>\n",
       "      <td>0.1</td>\n",
       "      <td>3.0</td>\n",
       "    </tr>\n",
       "    <tr>\n",
       "      <th>1</th>\n",
       "      <td>Men 36-55</td>\n",
       "      <td>3.0</td>\n",
       "      <td>5.0</td>\n",
       "      <td>2.0</td>\n",
       "      <td>0.5</td>\n",
       "      <td>0.2</td>\n",
       "      <td>0.1</td>\n",
       "      <td>0.2</td>\n",
       "      <td>5.0</td>\n",
       "    </tr>\n",
       "    <tr>\n",
       "      <th>2</th>\n",
       "      <td>Men 56+</td>\n",
       "      <td>1.0</td>\n",
       "      <td>3.0</td>\n",
       "      <td>0.0</td>\n",
       "      <td>0.3</td>\n",
       "      <td>0.0</td>\n",
       "      <td>0.0</td>\n",
       "      <td>0.3</td>\n",
       "      <td>4.0</td>\n",
       "    </tr>\n",
       "    <tr>\n",
       "      <th>3</th>\n",
       "      <td>Women 18-35</td>\n",
       "      <td>6.0</td>\n",
       "      <td>1.0</td>\n",
       "      <td>4.0</td>\n",
       "      <td>0.1</td>\n",
       "      <td>0.9</td>\n",
       "      <td>0.6</td>\n",
       "      <td>0.1</td>\n",
       "      <td>3.0</td>\n",
       "    </tr>\n",
       "    <tr>\n",
       "      <th>4</th>\n",
       "      <td>Women 36-55</td>\n",
       "      <td>4.0</td>\n",
       "      <td>1.0</td>\n",
       "      <td>2.0</td>\n",
       "      <td>0.1</td>\n",
       "      <td>0.1</td>\n",
       "      <td>1.3</td>\n",
       "      <td>0.2</td>\n",
       "      <td>5.0</td>\n",
       "    </tr>\n",
       "    <tr>\n",
       "      <th>5</th>\n",
       "      <td>Women 56+</td>\n",
       "      <td>2.0</td>\n",
       "      <td>1.0</td>\n",
       "      <td>0.0</td>\n",
       "      <td>0.0</td>\n",
       "      <td>0.0</td>\n",
       "      <td>0.4</td>\n",
       "      <td>0.3</td>\n",
       "      <td>4.0</td>\n",
       "    </tr>\n",
       "    <tr>\n",
       "      <th>6</th>\n",
       "      <td>Total exposures</td>\n",
       "      <td>21.0</td>\n",
       "      <td>17.0</td>\n",
       "      <td>13.0</td>\n",
       "      <td>1.5</td>\n",
       "      <td>1.9</td>\n",
       "      <td>2.5</td>\n",
       "      <td>1.2</td>\n",
       "      <td>24.0</td>\n",
       "    </tr>\n",
       "    <tr>\n",
       "      <th>7</th>\n",
       "      <td>Cost per (1k) ad</td>\n",
       "      <td>140.0</td>\n",
       "      <td>100.0</td>\n",
       "      <td>80.0</td>\n",
       "      <td>9.0</td>\n",
       "      <td>13.0</td>\n",
       "      <td>15.0</td>\n",
       "      <td>8.0</td>\n",
       "      <td>140.0</td>\n",
       "    </tr>\n",
       "  </tbody>\n",
       "</table>\n",
       "</div>"
      ],
      "text/plain": [
       "             Groups  Revenge  Sunday NF  The Simpsons  SportsCenter  Homeland  \\\n",
       "0         Men 18-35      5.0        6.0           5.0           0.5       0.7   \n",
       "1         Men 36-55      3.0        5.0           2.0           0.5       0.2   \n",
       "2           Men 56+      1.0        3.0           0.0           0.3       0.0   \n",
       "3       Women 18-35      6.0        1.0           4.0           0.1       0.9   \n",
       "4       Women 36-55      4.0        1.0           2.0           0.1       0.1   \n",
       "5         Women 56+      2.0        1.0           0.0           0.0       0.0   \n",
       "6   Total exposures     21.0       17.0          13.0           1.5       1.9   \n",
       "7  Cost per (1k) ad    140.0      100.0          80.0           9.0      13.0   \n",
       "\n",
       "   Rachael Ray  CNN  The Good Wife  \n",
       "0          0.1  0.1            3.0  \n",
       "1          0.1  0.2            5.0  \n",
       "2          0.0  0.3            4.0  \n",
       "3          0.6  0.1            3.0  \n",
       "4          1.3  0.2            5.0  \n",
       "5          0.4  0.3            4.0  \n",
       "6          2.5  1.2           24.0  \n",
       "7         15.0  8.0          140.0  "
      ]
     },
     "execution_count": 99,
     "metadata": {},
     "output_type": "execute_result"
    }
   ],
   "source": [
    "data = pd.read_csv(\"LP - Data.csv\")\n",
    "data.head(-1)"
   ]
  },
  {
   "cell_type": "code",
   "execution_count": 100,
   "metadata": {},
   "outputs": [
    {
     "data": {
      "text/plain": [
       "array([[5. , 6. , 5. , 0.5, 0.7, 0.1, 0.1, 3. ],\n",
       "       [3. , 5. , 2. , 0.5, 0.2, 0.1, 0.2, 5. ],\n",
       "       [1. , 3. , 0. , 0.3, 0. , 0. , 0.3, 4. ],\n",
       "       [6. , 1. , 4. , 0.1, 0.9, 0.6, 0.1, 3. ],\n",
       "       [4. , 1. , 2. , 0.1, 0.1, 1.3, 0.2, 5. ],\n",
       "       [2. , 1. , 0. , 0. , 0. , 0.4, 0.3, 4. ]])"
      ]
     },
     "execution_count": 100,
     "metadata": {},
     "output_type": "execute_result"
    }
   ],
   "source": [
    "A = np.array(data[data.columns[1:]].loc[0:5])\n",
    "A"
   ]
  },
  {
   "cell_type": "code",
   "execution_count": 101,
   "metadata": {},
   "outputs": [],
   "source": [
    "b = np.array([60, 60, 28, 60, 60, 28])"
   ]
  },
  {
   "cell_type": "code",
   "execution_count": 102,
   "metadata": {},
   "outputs": [
    {
     "data": {
      "text/plain": [
       "array([140., 100.,  80.,   9.,  13.,  15.,   8., 140.])"
      ]
     },
     "execution_count": 102,
     "metadata": {},
     "output_type": "execute_result"
    }
   ],
   "source": [
    "c = np.array(data[data.columns[1:]].loc[7])\n",
    "c"
   ]
  },
  {
   "cell_type": "code",
   "execution_count": 103,
   "metadata": {},
   "outputs": [],
   "source": [
    "x_bound = (0, None)"
   ]
  },
  {
   "cell_type": "code",
   "execution_count": 104,
   "metadata": {},
   "outputs": [],
   "source": [
    "res = scipy.optimize.linprog(c, integrality=1, A_ub=A*-1, b_ub=b*-1, bounds=(x_bound, x_bound, x_bound, x_bound, x_bound, x_bound, x_bound, x_bound), method='highs')"
   ]
  },
  {
   "cell_type": "code",
   "execution_count": 105,
   "metadata": {},
   "outputs": [
    {
     "name": "stdout",
     "output_type": "stream",
     "text": [
      "results [ 0.  0.  7. 28.  6. 10.  0.  6.]\n",
      "Exposure  [72.2 60.2 32.4 60.2 60.4 28. ]\n",
      "Total cost 1879.999999999868\n"
     ]
    }
   ],
   "source": [
    "print(\"results\", res.x)\n",
    "print(\"Exposure \", np.dot(A, res.x))\n",
    "print(\"Total cost\", np.dot(res.x, c))\n"
   ]
  },
  {
   "cell_type": "markdown",
   "metadata": {},
   "source": [
    "## Part 1b"
   ]
  },
  {
   "cell_type": "code",
   "execution_count": 106,
   "metadata": {},
   "outputs": [
    {
     "name": "stdout",
     "output_type": "stream",
     "text": [
      "men [[ 9.  14.   7.   1.3  0.9  0.2  0.6 12. ]]\n",
      "women [[12.   3.   6.   0.2  1.   2.3  0.6 12. ]]\n"
     ]
    }
   ],
   "source": [
    "men = np.sum(A[:3], axis=0).reshape(1,-1)\n",
    "women = np.sum(A[3:], axis=0).reshape(1,-1)\n",
    "\n",
    "print(\"men\", men)\n",
    "print(\"women\", women)"
   ]
  },
  {
   "cell_type": "code",
   "execution_count": 107,
   "metadata": {},
   "outputs": [],
   "source": [
    "new_A = np.concatenate((A, men, women), axis=0)\n",
    "new_b = np.append(b, [170, 170])"
   ]
  },
  {
   "cell_type": "code",
   "execution_count": 108,
   "metadata": {},
   "outputs": [
    {
     "data": {
      "text/plain": [
       "array([[ 5. ,  6. ,  5. ,  0.5,  0.7,  0.1,  0.1,  3. ],\n",
       "       [ 3. ,  5. ,  2. ,  0.5,  0.2,  0.1,  0.2,  5. ],\n",
       "       [ 1. ,  3. ,  0. ,  0.3,  0. ,  0. ,  0.3,  4. ],\n",
       "       [ 6. ,  1. ,  4. ,  0.1,  0.9,  0.6,  0.1,  3. ],\n",
       "       [ 4. ,  1. ,  2. ,  0.1,  0.1,  1.3,  0.2,  5. ],\n",
       "       [ 2. ,  1. ,  0. ,  0. ,  0. ,  0.4,  0.3,  4. ],\n",
       "       [ 9. , 14. ,  7. ,  1.3,  0.9,  0.2,  0.6, 12. ],\n",
       "       [12. ,  3. ,  6. ,  0.2,  1. ,  2.3,  0.6, 12. ]])"
      ]
     },
     "execution_count": 108,
     "metadata": {},
     "output_type": "execute_result"
    }
   ],
   "source": [
    "new_A"
   ]
  },
  {
   "cell_type": "code",
   "execution_count": 109,
   "metadata": {},
   "outputs": [
    {
     "data": {
      "text/plain": [
       "array([ 60,  60,  28,  60,  60,  28, 170, 170])"
      ]
     },
     "execution_count": 109,
     "metadata": {},
     "output_type": "execute_result"
    }
   ],
   "source": [
    "new_b"
   ]
  },
  {
   "cell_type": "code",
   "execution_count": 110,
   "metadata": {},
   "outputs": [],
   "source": [
    "res = scipy.optimize.linprog(c, integrality=1, A_ub=new_A*-1, b_ub=new_b*-1, bounds=(x_bound, x_bound, x_bound, x_bound, x_bound, x_bound, x_bound, x_bound), method='highs')"
   ]
  },
  {
   "cell_type": "code",
   "execution_count": 111,
   "metadata": {},
   "outputs": [
    {
     "name": "stdout",
     "output_type": "stream",
     "text": [
      "results [0. 0. 7. 9. 0. 8. 0. 9.]\n",
      "Exposure  [ 67.3  64.3  38.7  60.7  70.3  39.2 170.3 170.2]\n",
      "Total cost 2021.0\n"
     ]
    }
   ],
   "source": [
    "print(\"results\", res.x)\n",
    "print(\"Exposure \", np.dot(new_A, res.x))\n",
    "print(\"Total cost\", np.dot(res.x, c))"
   ]
  },
  {
   "cell_type": "markdown",
   "metadata": {},
   "source": [
    "# Part 2"
   ]
  },
  {
   "cell_type": "code",
   "execution_count": 112,
   "metadata": {},
   "outputs": [
    {
     "name": "stdout",
     "output_type": "stream",
     "text": [
      "A_total [[21.  17.  13.   1.5  1.9  2.5  1.2 24. ]]\n"
     ]
    }
   ],
   "source": [
    "A_total = np.sum(A, axis=0).reshape(1,-1)\n",
    "print(\"A_total\", A_total)"
   ]
  },
  {
   "cell_type": "code",
   "execution_count": 113,
   "metadata": {},
   "outputs": [
    {
     "name": "stdout",
     "output_type": "stream",
     "text": [
      "total_exp [[296]]\n"
     ]
    }
   ],
   "source": [
    "min_b = (np.sum(b)).reshape(1, -1)\n",
    "print(\"total_exp\", min_b)"
   ]
  },
  {
   "cell_type": "code",
   "execution_count": 114,
   "metadata": {},
   "outputs": [],
   "source": [
    "total_res = {\n",
    "    \"offset\": [], \n",
    "    \"Exposure\": [], \n",
    "    \"Total cost\": [], \n",
    "    \"min_b\": [], \n",
    "    \"Revenge\": [], \n",
    "    'Sunday NF': [], \n",
    "    'The Simpsons':[], \n",
    "    'SportsCenter':[],\n",
    "    'Homeland':[],\n",
    "    'Rachael Ra':[], \n",
    "    'CNN':[], \n",
    "    'The Good Wife': []\n",
    "             }\n",
    "for offset in range(20, 51, 5):\n",
    "    min_b = min_b + offset\n",
    "    res = scipy.optimize.linprog(c, integrality=1, A_ub=A_total*-1, b_ub=min_b*-1, bounds=(x_bound, x_bound, x_bound, x_bound, x_bound, x_bound, x_bound, x_bound), method='highs')\n",
    "    total_res[\"offset\"].append(offset)\n",
    "    total_res[\"min_b\"].append(min_b[0][0])\n",
    "    total_res[\"Exposure\"].append((np.dot(A_total, res.x))[0])\n",
    "    total_res[\"Total cost\"].append(np.dot(res.x, c))\n",
    "\n",
    "    total_res['Revenge'].append(res.x[0])\n",
    "    total_res['Sunday NF'].append(res.x[1])\n",
    "    total_res['The Simpsons'].append(res.x[2])\n",
    "    total_res['SportsCenter'].append(res.x[3])\n",
    "    total_res['Homeland'].append(res.x[4])\n",
    "    total_res['Rachael Ra'].append(res.x[5])\n",
    "    total_res['CNN'].append(res.x[6])\n",
    "    total_res['The Good Wife'].append(res.x[7])\n"
   ]
  },
  {
   "cell_type": "code",
   "execution_count": 115,
   "metadata": {},
   "outputs": [
    {
     "data": {
      "text/html": [
       "<div>\n",
       "<style scoped>\n",
       "    .dataframe tbody tr th:only-of-type {\n",
       "        vertical-align: middle;\n",
       "    }\n",
       "\n",
       "    .dataframe tbody tr th {\n",
       "        vertical-align: top;\n",
       "    }\n",
       "\n",
       "    .dataframe thead th {\n",
       "        text-align: right;\n",
       "    }\n",
       "</style>\n",
       "<table border=\"1\" class=\"dataframe\">\n",
       "  <thead>\n",
       "    <tr style=\"text-align: right;\">\n",
       "      <th></th>\n",
       "      <th>offset</th>\n",
       "      <th>Exposure</th>\n",
       "      <th>Total cost</th>\n",
       "      <th>min_b</th>\n",
       "      <th>Revenge</th>\n",
       "      <th>Sunday NF</th>\n",
       "      <th>The Simpsons</th>\n",
       "      <th>SportsCenter</th>\n",
       "      <th>Homeland</th>\n",
       "      <th>Rachael Ra</th>\n",
       "      <th>CNN</th>\n",
       "      <th>The Good Wife</th>\n",
       "    </tr>\n",
       "  </thead>\n",
       "  <tbody>\n",
       "    <tr>\n",
       "      <th>0</th>\n",
       "      <td>20</td>\n",
       "      <td>316.0</td>\n",
       "      <td>1844.0</td>\n",
       "      <td>316</td>\n",
       "      <td>0.0</td>\n",
       "      <td>0.0</td>\n",
       "      <td>0.0</td>\n",
       "      <td>1.0</td>\n",
       "      <td>0.0</td>\n",
       "      <td>1.0</td>\n",
       "      <td>0.0</td>\n",
       "      <td>13.0</td>\n",
       "    </tr>\n",
       "    <tr>\n",
       "      <th>1</th>\n",
       "      <td>25</td>\n",
       "      <td>341.0</td>\n",
       "      <td>1990.0</td>\n",
       "      <td>341</td>\n",
       "      <td>0.0</td>\n",
       "      <td>0.0</td>\n",
       "      <td>0.0</td>\n",
       "      <td>0.0</td>\n",
       "      <td>0.0</td>\n",
       "      <td>2.0</td>\n",
       "      <td>0.0</td>\n",
       "      <td>14.0</td>\n",
       "    </tr>\n",
       "    <tr>\n",
       "      <th>2</th>\n",
       "      <td>30</td>\n",
       "      <td>371.0</td>\n",
       "      <td>2166.0</td>\n",
       "      <td>371</td>\n",
       "      <td>0.0</td>\n",
       "      <td>0.0</td>\n",
       "      <td>0.0</td>\n",
       "      <td>4.0</td>\n",
       "      <td>0.0</td>\n",
       "      <td>2.0</td>\n",
       "      <td>0.0</td>\n",
       "      <td>15.0</td>\n",
       "    </tr>\n",
       "    <tr>\n",
       "      <th>3</th>\n",
       "      <td>35</td>\n",
       "      <td>406.0</td>\n",
       "      <td>2370.0</td>\n",
       "      <td>406</td>\n",
       "      <td>0.0</td>\n",
       "      <td>1.0</td>\n",
       "      <td>0.0</td>\n",
       "      <td>0.0</td>\n",
       "      <td>0.0</td>\n",
       "      <td>2.0</td>\n",
       "      <td>0.0</td>\n",
       "      <td>16.0</td>\n",
       "    </tr>\n",
       "    <tr>\n",
       "      <th>4</th>\n",
       "      <td>40</td>\n",
       "      <td>446.0</td>\n",
       "      <td>2604.0</td>\n",
       "      <td>446</td>\n",
       "      <td>0.0</td>\n",
       "      <td>0.0</td>\n",
       "      <td>0.0</td>\n",
       "      <td>1.0</td>\n",
       "      <td>0.0</td>\n",
       "      <td>5.0</td>\n",
       "      <td>0.0</td>\n",
       "      <td>18.0</td>\n",
       "    </tr>\n",
       "    <tr>\n",
       "      <th>5</th>\n",
       "      <td>45</td>\n",
       "      <td>491.0</td>\n",
       "      <td>2866.0</td>\n",
       "      <td>491</td>\n",
       "      <td>0.0</td>\n",
       "      <td>0.0</td>\n",
       "      <td>0.0</td>\n",
       "      <td>4.0</td>\n",
       "      <td>0.0</td>\n",
       "      <td>2.0</td>\n",
       "      <td>0.0</td>\n",
       "      <td>20.0</td>\n",
       "    </tr>\n",
       "    <tr>\n",
       "      <th>6</th>\n",
       "      <td>50</td>\n",
       "      <td>541.0</td>\n",
       "      <td>3158.0</td>\n",
       "      <td>541</td>\n",
       "      <td>0.0</td>\n",
       "      <td>0.0</td>\n",
       "      <td>0.0</td>\n",
       "      <td>2.0</td>\n",
       "      <td>0.0</td>\n",
       "      <td>4.0</td>\n",
       "      <td>0.0</td>\n",
       "      <td>22.0</td>\n",
       "    </tr>\n",
       "  </tbody>\n",
       "</table>\n",
       "</div>"
      ],
      "text/plain": [
       "   offset  Exposure  Total cost  min_b  Revenge  Sunday NF  The Simpsons  \\\n",
       "0      20     316.0      1844.0    316      0.0        0.0           0.0   \n",
       "1      25     341.0      1990.0    341      0.0        0.0           0.0   \n",
       "2      30     371.0      2166.0    371      0.0        0.0           0.0   \n",
       "3      35     406.0      2370.0    406      0.0        1.0           0.0   \n",
       "4      40     446.0      2604.0    446      0.0        0.0           0.0   \n",
       "5      45     491.0      2866.0    491      0.0        0.0           0.0   \n",
       "6      50     541.0      3158.0    541      0.0        0.0           0.0   \n",
       "\n",
       "   SportsCenter  Homeland  Rachael Ra  CNN  The Good Wife  \n",
       "0           1.0       0.0         1.0  0.0           13.0  \n",
       "1           0.0       0.0         2.0  0.0           14.0  \n",
       "2           4.0       0.0         2.0  0.0           15.0  \n",
       "3           0.0       0.0         2.0  0.0           16.0  \n",
       "4           1.0       0.0         5.0  0.0           18.0  \n",
       "5           4.0       0.0         2.0  0.0           20.0  \n",
       "6           2.0       0.0         4.0  0.0           22.0  "
      ]
     },
     "execution_count": 115,
     "metadata": {},
     "output_type": "execute_result"
    }
   ],
   "source": [
    "total_df = pd.DataFrame(total_res)\n",
    "total_df"
   ]
  },
  {
   "cell_type": "code",
   "execution_count": 116,
   "metadata": {},
   "outputs": [
    {
     "data": {
      "text/plain": [
       "<matplotlib.collections.PathCollection at 0x1418e4380>"
      ]
     },
     "execution_count": 116,
     "metadata": {},
     "output_type": "execute_result"
    },
    {
     "data": {
      "image/png": "[encoded data removed]",
      "text/plain": [
       "<Figure size 640x480 with 1 Axes>"
      ]
     },
     "metadata": {},
     "output_type": "display_data"
    }
   ],
   "source": [
    "plt.scatter(total_df[\"offset\"], total_df[\"Exposure\"])"
   ]
  },
  {
   "cell_type": "markdown",
   "metadata": {},
   "source": [
    "# Part 5"
   ]
  },
  {
   "cell_type": "code",
   "execution_count": 117,
   "metadata": {},
   "outputs": [
    {
     "data": {
      "text/html": [
       "<div>\n",
       "<style scoped>\n",
       "    .dataframe tbody tr th:only-of-type {\n",
       "        vertical-align: middle;\n",
       "    }\n",
       "\n",
       "    .dataframe tbody tr th {\n",
       "        vertical-align: top;\n",
       "    }\n",
       "\n",
       "    .dataframe thead th {\n",
       "        text-align: right;\n",
       "    }\n",
       "</style>\n",
       "<table border=\"1\" class=\"dataframe\">\n",
       "  <thead>\n",
       "    <tr style=\"text-align: right;\">\n",
       "      <th></th>\n",
       "      <th>Type</th>\n",
       "      <th>Efficiency</th>\n",
       "      <th>1-BR</th>\n",
       "      <th>2-BR</th>\n",
       "      <th>3-BR</th>\n",
       "    </tr>\n",
       "  </thead>\n",
       "  <tbody>\n",
       "    <tr>\n",
       "      <th>0</th>\n",
       "      <td>Size</td>\n",
       "      <td>500.0</td>\n",
       "      <td>700</td>\n",
       "      <td>800</td>\n",
       "      <td>1000</td>\n",
       "    </tr>\n",
       "    <tr>\n",
       "      <th>1</th>\n",
       "      <td>Rental Income</td>\n",
       "      <td>1750.0</td>\n",
       "      <td>2250</td>\n",
       "      <td>2750</td>\n",
       "      <td>3750</td>\n",
       "    </tr>\n",
       "    <tr>\n",
       "      <th>2</th>\n",
       "      <td>Min Count</td>\n",
       "      <td>0.0</td>\n",
       "      <td>5</td>\n",
       "      <td>8</td>\n",
       "      <td>0</td>\n",
       "    </tr>\n",
       "    <tr>\n",
       "      <th>3</th>\n",
       "      <td>Max Count</td>\n",
       "      <td>NaN</td>\n",
       "      <td>15</td>\n",
       "      <td>20</td>\n",
       "      <td>12</td>\n",
       "    </tr>\n",
       "  </tbody>\n",
       "</table>\n",
       "</div>"
      ],
      "text/plain": [
       "            Type  Efficiency  1-BR  2-BR  3-BR\n",
       "0           Size       500.0   700   800  1000\n",
       "1  Rental Income      1750.0  2250  2750  3750\n",
       "2      Min Count         0.0     5     8     0\n",
       "3      Max Count         NaN    15    20    12"
      ]
     },
     "execution_count": 117,
     "metadata": {},
     "output_type": "execute_result"
    }
   ],
   "source": [
    "data = pd.read_csv(\"Apartment - Data.csv\")\n",
    "data.head()"
   ]
  },
  {
   "cell_type": "code",
   "execution_count": 118,
   "metadata": {},
   "outputs": [
    {
     "data": {
      "text/plain": [
       "array([1750., 2250., 2750., 3750.])"
      ]
     },
     "execution_count": 118,
     "metadata": {},
     "output_type": "execute_result"
    }
   ],
   "source": [
    "c = np.array(data[data.columns[1:]].loc[1])\n",
    "c"
   ]
  },
  {
   "cell_type": "markdown",
   "metadata": {},
   "source": [
    "## Get the bounds for the variables"
   ]
  },
  {
   "cell_type": "code",
   "execution_count": 119,
   "metadata": {},
   "outputs": [],
   "source": [
    "import math\n",
    "bounds = []\n",
    "for col in data.columns[1:]:\n",
    "    min_bound = data[col].loc[2]\n",
    "    max_bound = data[col].loc[3]\n",
    "    if math.isnan(max_bound):\n",
    "        max_bound = None\n",
    "    if math.isnan(min_bound):\n",
    "        max_bound = None\n",
    "\n",
    "    bounds.append((min_bound, max_bound))\n",
    "\n",
    "bounds = tuple(bounds)\n"
   ]
  },
  {
   "cell_type": "code",
   "execution_count": 120,
   "metadata": {},
   "outputs": [
    {
     "data": {
      "text/plain": [
       "array([[40000,    40]])"
      ]
     },
     "execution_count": 120,
     "metadata": {},
     "output_type": "execute_result"
    }
   ],
   "source": [
    "b = np.array([[40000, 40]])\n",
    "b"
   ]
  },
  {
   "cell_type": "code",
   "execution_count": 121,
   "metadata": {},
   "outputs": [
    {
     "data": {
      "text/plain": [
       "array([[ 500.,  700.,  800., 1000.],\n",
       "       [   1.,    1.,    1.,    1.]])"
      ]
     },
     "execution_count": 121,
     "metadata": {},
     "output_type": "execute_result"
    }
   ],
   "source": [
    "A = np.array(data[data.columns[1:]].loc[0]).reshape(1,-1)\n",
    "A = np.concatenate((A, np.ones((1, A.shape[1]))), axis=0) \n",
    "A"
   ]
  },
  {
   "cell_type": "code",
   "execution_count": 122,
   "metadata": {},
   "outputs": [],
   "source": [
    "res = scipy.optimize.linprog(c*-1, A_ub=A, b_ub=b, bounds=bounds, method='highs')"
   ]
  },
  {
   "cell_type": "code",
   "execution_count": 123,
   "metadata": {},
   "outputs": [
    {
     "name": "stdout",
     "output_type": "stream",
     "text": [
      "results [ 0.  8. 20. 12.]\n",
      "Total Square foot 33600.0\n",
      "Total Number of apartments 40.0\n",
      "Max Earning 118000.0\n"
     ]
    }
   ],
   "source": [
    "print(\"results\", res.x)\n",
    "print(\"Total Square foot\", np.dot(A, res.x)[0])\n",
    "print(\"Total Number of apartments\",np.dot(A, res.x)[1])\n",
    "print(\"Max Earning\", np.dot(res.x, c))"
   ]
  },
  {
   "cell_type": "code",
   "execution_count": 124,
   "metadata": {},
   "outputs": [
    {
     "data": {
      "text/plain": [
       "  residual: [ 0.000e+00  3.000e+00  1.200e+01  1.200e+01]\n",
       " marginals: [ 5.000e+02  0.000e+00  0.000e+00  0.000e+00]"
      ]
     },
     "execution_count": 124,
     "metadata": {},
     "output_type": "execute_result"
    }
   ],
   "source": [
    "res.lower"
   ]
  },
  {
   "cell_type": "markdown",
   "metadata": {},
   "source": [
    "## 2.2"
   ]
  },
  {
   "cell_type": "code",
   "execution_count": 125,
   "metadata": {},
   "outputs": [
    {
     "data": {
      "text/plain": [
       "array([[40000,    43]])"
      ]
     },
     "execution_count": 125,
     "metadata": {},
     "output_type": "execute_result"
    }
   ],
   "source": [
    "b = np.array([[40000, 43]])\n",
    "b"
   ]
  },
  {
   "cell_type": "code",
   "execution_count": 126,
   "metadata": {},
   "outputs": [],
   "source": [
    "res = scipy.optimize.linprog(c*-1, A_ub=A, b_ub=b, bounds=bounds, method='highs')"
   ]
  },
  {
   "cell_type": "code",
   "execution_count": 127,
   "metadata": {},
   "outputs": [
    {
     "name": "stdout",
     "output_type": "stream",
     "text": [
      "results [ 0. 11. 20. 12.]\n",
      "Total Square foot 35700.0\n",
      "Total Number of apartments 43.0\n",
      "Max Earning 124750.0\n"
     ]
    }
   ],
   "source": [
    "print(\"results\", res.x)\n",
    "print(\"Total Square foot\", np.dot(A, res.x)[0])\n",
    "print(\"Total Number of apartments\",np.dot(A, res.x)[1])\n",
    "print(\"Max Earning\", np.dot(res.x, c))"
   ]
  },
  {
   "cell_type": "code",
   "execution_count": 128,
   "metadata": {},
   "outputs": [],
   "source": [
    "total_res = {\"apt_count\": [], \"Total Square foot\": [], \"Total Number of apartments\": [], \"Max Earning\": [], \"Efficiency\": [], \"1 Bedroom\": [], \"2 Bedroom\": [], \"3 Bedroom\": []}\n",
    "for apt_count in range(40, 61, 2):\n",
    "    b = np.array([[40000, apt_count]])\n",
    "    res = scipy.optimize.linprog(c*-1, A_ub=A, b_ub=b, bounds=bounds, method='highs')\n",
    "\n",
    "    total_res[\"apt_count\"].append(apt_count)\n",
    "\n",
    "    total_res[\"Efficiency\"].append(res.x[0])\n",
    "    total_res[\"1 Bedroom\"].append(res.x[1])\n",
    "    total_res[\"2 Bedroom\"].append(res.x[2])\n",
    "    total_res[\"3 Bedroom\"].append(res.x[3])\n",
    "\n",
    "    total_res[\"Total Square foot\"].append(np.dot(A, res.x)[0])\n",
    "    total_res[\"Total Number of apartments\"].append(np.dot(A, res.x)[1])\n",
    "    total_res[\"Max Earning\"].append(np.dot(res.x, c))"
   ]
  },
  {
   "cell_type": "code",
   "execution_count": 129,
   "metadata": {},
   "outputs": [
    {
     "data": {
      "text/html": [
       "<div>\n",
       "<style scoped>\n",
       "    .dataframe tbody tr th:only-of-type {\n",
       "        vertical-align: middle;\n",
       "    }\n",
       "\n",
       "    .dataframe tbody tr th {\n",
       "        vertical-align: top;\n",
       "    }\n",
       "\n",
       "    .dataframe thead th {\n",
       "        text-align: right;\n",
       "    }\n",
       "</style>\n",
       "<table border=\"1\" class=\"dataframe\">\n",
       "  <thead>\n",
       "    <tr style=\"text-align: right;\">\n",
       "      <th></th>\n",
       "      <th>apt_count</th>\n",
       "      <th>Total Square foot</th>\n",
       "      <th>Total Number of apartments</th>\n",
       "      <th>Max Earning</th>\n",
       "      <th>Efficiency</th>\n",
       "      <th>1 Bedroom</th>\n",
       "      <th>2 Bedroom</th>\n",
       "      <th>3 Bedroom</th>\n",
       "    </tr>\n",
       "  </thead>\n",
       "  <tbody>\n",
       "    <tr>\n",
       "      <th>0</th>\n",
       "      <td>40</td>\n",
       "      <td>33600.0</td>\n",
       "      <td>40.0</td>\n",
       "      <td>118000.000000</td>\n",
       "      <td>0.000000</td>\n",
       "      <td>8.0</td>\n",
       "      <td>20.000000</td>\n",
       "      <td>12.0</td>\n",
       "    </tr>\n",
       "    <tr>\n",
       "      <th>1</th>\n",
       "      <td>42</td>\n",
       "      <td>35000.0</td>\n",
       "      <td>42.0</td>\n",
       "      <td>122500.000000</td>\n",
       "      <td>0.000000</td>\n",
       "      <td>10.0</td>\n",
       "      <td>20.000000</td>\n",
       "      <td>12.0</td>\n",
       "    </tr>\n",
       "    <tr>\n",
       "      <th>2</th>\n",
       "      <td>44</td>\n",
       "      <td>36400.0</td>\n",
       "      <td>44.0</td>\n",
       "      <td>127000.000000</td>\n",
       "      <td>0.000000</td>\n",
       "      <td>12.0</td>\n",
       "      <td>20.000000</td>\n",
       "      <td>12.0</td>\n",
       "    </tr>\n",
       "    <tr>\n",
       "      <th>3</th>\n",
       "      <td>46</td>\n",
       "      <td>37800.0</td>\n",
       "      <td>46.0</td>\n",
       "      <td>131500.000000</td>\n",
       "      <td>0.000000</td>\n",
       "      <td>14.0</td>\n",
       "      <td>20.000000</td>\n",
       "      <td>12.0</td>\n",
       "    </tr>\n",
       "    <tr>\n",
       "      <th>4</th>\n",
       "      <td>48</td>\n",
       "      <td>39000.0</td>\n",
       "      <td>48.0</td>\n",
       "      <td>135500.000000</td>\n",
       "      <td>1.000000</td>\n",
       "      <td>15.0</td>\n",
       "      <td>20.000000</td>\n",
       "      <td>12.0</td>\n",
       "    </tr>\n",
       "    <tr>\n",
       "      <th>5</th>\n",
       "      <td>50</td>\n",
       "      <td>40000.0</td>\n",
       "      <td>50.0</td>\n",
       "      <td>139000.000000</td>\n",
       "      <td>3.000000</td>\n",
       "      <td>15.0</td>\n",
       "      <td>20.000000</td>\n",
       "      <td>12.0</td>\n",
       "    </tr>\n",
       "    <tr>\n",
       "      <th>6</th>\n",
       "      <td>52</td>\n",
       "      <td>40000.0</td>\n",
       "      <td>52.0</td>\n",
       "      <td>140000.000000</td>\n",
       "      <td>10.000000</td>\n",
       "      <td>10.0</td>\n",
       "      <td>20.000000</td>\n",
       "      <td>12.0</td>\n",
       "    </tr>\n",
       "    <tr>\n",
       "      <th>7</th>\n",
       "      <td>54</td>\n",
       "      <td>40000.0</td>\n",
       "      <td>54.0</td>\n",
       "      <td>141000.000000</td>\n",
       "      <td>17.000000</td>\n",
       "      <td>5.0</td>\n",
       "      <td>20.000000</td>\n",
       "      <td>12.0</td>\n",
       "    </tr>\n",
       "    <tr>\n",
       "      <th>8</th>\n",
       "      <td>56</td>\n",
       "      <td>40000.0</td>\n",
       "      <td>56.0</td>\n",
       "      <td>141166.666667</td>\n",
       "      <td>22.333333</td>\n",
       "      <td>5.0</td>\n",
       "      <td>16.666667</td>\n",
       "      <td>12.0</td>\n",
       "    </tr>\n",
       "    <tr>\n",
       "      <th>9</th>\n",
       "      <td>58</td>\n",
       "      <td>40000.0</td>\n",
       "      <td>58.0</td>\n",
       "      <td>141333.333333</td>\n",
       "      <td>27.666667</td>\n",
       "      <td>5.0</td>\n",
       "      <td>13.333333</td>\n",
       "      <td>12.0</td>\n",
       "    </tr>\n",
       "    <tr>\n",
       "      <th>10</th>\n",
       "      <td>60</td>\n",
       "      <td>40000.0</td>\n",
       "      <td>60.0</td>\n",
       "      <td>141500.000000</td>\n",
       "      <td>33.000000</td>\n",
       "      <td>5.0</td>\n",
       "      <td>10.000000</td>\n",
       "      <td>12.0</td>\n",
       "    </tr>\n",
       "  </tbody>\n",
       "</table>\n",
       "</div>"
      ],
      "text/plain": [
       "    apt_count  Total Square foot  Total Number of apartments    Max Earning  \\\n",
       "0          40            33600.0                        40.0  118000.000000   \n",
       "1          42            35000.0                        42.0  122500.000000   \n",
       "2          44            36400.0                        44.0  127000.000000   \n",
       "3          46            37800.0                        46.0  131500.000000   \n",
       "4          48            39000.0                        48.0  135500.000000   \n",
       "5          50            40000.0                        50.0  139000.000000   \n",
       "6          52            40000.0                        52.0  140000.000000   \n",
       "7          54            40000.0                        54.0  141000.000000   \n",
       "8          56            40000.0                        56.0  141166.666667   \n",
       "9          58            40000.0                        58.0  141333.333333   \n",
       "10         60            40000.0                        60.0  141500.000000   \n",
       "\n",
       "    Efficiency  1 Bedroom  2 Bedroom  3 Bedroom  \n",
       "0     0.000000        8.0  20.000000       12.0  \n",
       "1     0.000000       10.0  20.000000       12.0  \n",
       "2     0.000000       12.0  20.000000       12.0  \n",
       "3     0.000000       14.0  20.000000       12.0  \n",
       "4     1.000000       15.0  20.000000       12.0  \n",
       "5     3.000000       15.0  20.000000       12.0  \n",
       "6    10.000000       10.0  20.000000       12.0  \n",
       "7    17.000000        5.0  20.000000       12.0  \n",
       "8    22.333333        5.0  16.666667       12.0  \n",
       "9    27.666667        5.0  13.333333       12.0  \n",
       "10   33.000000        5.0  10.000000       12.0  "
      ]
     },
     "execution_count": 129,
     "metadata": {},
     "output_type": "execute_result"
    }
   ],
   "source": [
    "res_df = pd.DataFrame(total_res)\n",
    "res_df"
   ]
  },
  {
   "cell_type": "code",
   "execution_count": 130,
   "metadata": {},
   "outputs": [
    {
     "data": {
      "text/plain": [
       "<matplotlib.collections.PathCollection at 0x1417c0980>"
      ]
     },
     "execution_count": 130,
     "metadata": {},
     "output_type": "execute_result"
    },
    {
     "data": {
      "image/png": "[encoded data removed]",
      "text/plain": [
       "<Figure size 640x480 with 1 Axes>"
      ]
     },
     "metadata": {},
     "output_type": "display_data"
    }
   ],
   "source": [
    "plt.scatter(res_df[\"apt_count\"], res_df[\"Max Earning\"])"
   ]
  },
  {
   "cell_type": "code",
   "execution_count": null,
   "metadata": {},
   "outputs": [],
   "source": []
  }
 ],
 "metadata": {
  "kernelspec": {
   "display_name": ".venv",
   "language": "python",
   "name": "python3"
  },
  "language_info": {
   "codemirror_mode": {
    "name": "ipython",
    "version": 3
   },
   "file_extension": ".py",
   "mimetype": "text/x-python",
   "name": "python",
   "nbconvert_exporter": "python",
   "pygments_lexer": "ipython3",
   "version": "3.12.2"
  }
 },
 "nbformat": 4,
 "nbformat_minor": 2
}
